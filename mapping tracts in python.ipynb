{
 "cells": [
  {
   "cell_type": "code",
   "execution_count": 42,
   "metadata": {
    "ExecuteTime": {
     "end_time": "2022-09-22T17:45:38.587699Z",
     "start_time": "2022-09-22T17:45:38.582940Z"
    }
   },
   "outputs": [],
   "source": [
    "import folium\n",
    "import geopandas as gpd\n",
    "import pandas as pd\n",
    "# pd.set_option('display.max_rows', None)"
   ]
  },
  {
   "cell_type": "code",
   "execution_count": 43,
   "metadata": {
    "ExecuteTime": {
     "end_time": "2022-09-22T17:45:39.638224Z",
     "start_time": "2022-09-22T17:45:39.263662Z"
    }
   },
   "outputs": [],
   "source": [
    "# Import the shapefile with data\n",
    "gdf = gpd.read_file('data/Census_Tracts_2020_Redistricting_Data.shp')\n",
    "# Import labels given to tracts for district options and analysis\n",
    "labels = pd.read_csv('data/tract_labels.csv').drop(['TRACT_NO', 'FIPS2020'], axis=1)\n",
    "# Cast types to enable merge\n",
    "gdf['STATE'] = gdf['STATE'].astype('int64')\n",
    "gdf['COUNTY'] = gdf['COUNTY'].astype('int64')\n",
    "gdf['TRACT'] = gdf['TRACT'].astype('int64')\n",
    "# Merge the shapefile with the labels\n",
    "gdf = gdf.merge(labels, on=['STATE', 'COUNTY', 'TRACT'], how='left')\n",
    "gdf = gdf[gdf['LABEL']!='Not Portland']\n",
    "gdf = gdf[gdf['LABEL'].notnull()]"
   ]
  },
  {
   "cell_type": "markdown",
   "metadata": {},
   "source": [
    "Geopandas helper maps"
   ]
  },
  {
   "cell_type": "code",
   "execution_count": 4,
   "metadata": {
    "ExecuteTime": {
     "end_time": "2022-09-22T17:25:29.879709Z",
     "start_time": "2022-09-22T17:25:29.875714Z"
    }
   },
   "outputs": [],
   "source": [
    "# # Use the Geopandas Choropleth maps as a guide by tract + population\n",
    "\n",
    "# # Population\n",
    "# ax = gdf.plot(figsize=(100, 100), \n",
    "#                  column='P2_001N', #'P2_001N', \n",
    "#                  legend=False,\n",
    "#                  cmap='spring', # https://matplotlib.org/2.0.2/users/colormaps.html\n",
    "#                  edgecolor='black', \n",
    "#                  linewidth=3,)\n",
    "# gdf.apply(lambda x: ax.annotate(text=x['P2_001N'], \n",
    "#                                    xy=x.geometry.centroid.coords[0], \n",
    "#                                    ha='center',\n",
    "#                                    size=11),\n",
    "#              axis=1)\n",
    "# # ax.set_title('Total Coronavirus Deaths as of September 2021\\n', size=25)\n",
    "# ax.set_xticks([])\n",
    "# ax.set_yticks([])"
   ]
  },
  {
   "cell_type": "code",
   "execution_count": 5,
   "metadata": {
    "ExecuteTime": {
     "end_time": "2022-09-22T17:25:30.516811Z",
     "start_time": "2022-09-22T17:25:30.511202Z"
    }
   },
   "outputs": [],
   "source": [
    "# # Use the Geopandas Choropleth maps as a guide by tract + population\n",
    "\n",
    "# # Census Tract\n",
    "# ax = gdf.plot(figsize=(50, 50), \n",
    "#                  column='P2_001N', \n",
    "#                  legend=False,\n",
    "#                  cmap='spring', # https://matplotlib.org/2.0.2/users/colormaps.html\n",
    "#                  edgecolor='black', \n",
    "#                  linewidth=3,)\n",
    "# gdf.apply(lambda x: ax.annotate(text=x['TRACT_NO'], \n",
    "#                                    xy=x.geometry.centroid.coords[0], \n",
    "#                                    ha='center',\n",
    "#                                    size=11),\n",
    "#              axis=1)\n",
    "# # ax.set_title('Total Coronavirus Deaths as of September 2021\\n', size=25)\n",
    "# ax.set_xticks([])\n",
    "# ax.set_yticks([])"
   ]
  },
  {
   "cell_type": "markdown",
   "metadata": {},
   "source": [
    "Folium maps for some options"
   ]
  },
  {
   "cell_type": "code",
   "execution_count": 45,
   "metadata": {
    "ExecuteTime": {
     "end_time": "2022-09-22T17:47:11.148644Z",
     "start_time": "2022-09-22T17:47:11.109994Z"
    }
   },
   "outputs": [],
   "source": [
    "# Create a map and add choropleth by population for each tract\n",
    "def map_districts(gdf, column, colors):\n",
    "    \"\"\"\n",
    "    gfd is the geo data frame\n",
    "    column is the name of the column in gdf used for coloring the choropleth map\n",
    "    colors is the matplotlib cmap coloring scheme:\n",
    "         https://matplotlib.org/2.0.2/users/colormaps.html\n",
    "    \"\"\"\n",
    "    m = folium.Map(location=[45.5, -122.5], \n",
    "                   zoom_start=10, \n",
    "                   width='100%')\n",
    "    cp = folium.Choropleth(\n",
    "        geo_data=gdf,\n",
    "        name='Portland, Oregon',\n",
    "        data=gdf,\n",
    "        columns=['TRACT_NO', column],\n",
    "        key_on='feature.properties.TRACT_NO',\n",
    "        fill_color=colors, \n",
    "        label=['P2_001N'],\n",
    "        tooltip=['TRACT_NO', 'P2_001N'],\n",
    "        fill_opacity=0.5,\n",
    "        line_opacity=0.9,\n",
    "#         legend_name='Portland Potential Districts',\n",
    "    ).add_to(m)\n",
    "\n",
    "    # This adds tooltips:  https://medium.com/analytics-vidhya/interactive-choropleth-map-in-python-using-folium-4e1479d9e568\n",
    "    style_function = lambda x: {'fillColor': '#ffffff', \n",
    "                                'color':'#000000', \n",
    "                                'fillOpacity': 0.1, \n",
    "                                'weight': 0.1}\n",
    "    tooltipadd = folium.features.GeoJson(\n",
    "        gdf,\n",
    "        style_function=style_function, \n",
    "        control=False,\n",
    "        tooltip=folium.features.GeoJsonTooltip(\n",
    "            fields=['TRACT_NO', 'P2_001N'],\n",
    "            aliases=['TRACT_NO', 'P2_001N'],\n",
    "            style=(\"background-color: white; color: #333333; font-family: arial; font-size: 12px; padding: 10px;\") \n",
    "        )\n",
    "    )\n",
    "    m.add_child(tooltipadd)\n",
    "    m.keep_in_front(tooltipadd)\n",
    "    folium.LayerControl().add_to(m)\n",
    "    return m"
   ]
  },
  {
   "cell_type": "markdown",
   "metadata": {},
   "source": [
    "Folium map of Portland \"quadrants\" by population tract\n",
    "* *census tracts do not adhere strictly to the quadrants, therefore this is an estimate*"
   ]
  },
  {
   "cell_type": "code",
   "execution_count": 49,
   "metadata": {
    "ExecuteTime": {
     "end_time": "2022-09-22T17:48:34.779626Z",
     "start_time": "2022-09-22T17:48:33.390150Z"
    }
   },
   "outputs": [],
   "source": [
    "# Create a map and add choropleth for Portland's population by quadrants\n",
    "quadrants = gdf[gdf['LABEL'].notnull()]\n",
    "quadrants['LABEL_NUM'] = quadrants['LABEL'].replace(\n",
    "                          {'NE': 1, 'SW': 2, 'NW': 3, 'SE': 4, 'N': 5}).astype('float64')\n",
    "quadrants_map = map_districts(quadrants, 'LABEL_NUM', 'Accent')\n",
    "# quadrants_map"
   ]
  },
  {
   "cell_type": "markdown",
   "metadata": {},
   "source": [
    "Validations "
   ]
  },
  {
   "cell_type": "code",
   "execution_count": 33,
   "metadata": {
    "ExecuteTime": {
     "end_time": "2022-09-22T17:35:28.750350Z",
     "start_time": "2022-09-22T17:35:28.741397Z"
    }
   },
   "outputs": [],
   "source": [
    "# # The data is correctly labeled for quadrants\n",
    "# print(gdf['LABEL'].unique())\n",
    "# gdf_north = gdf[gdf['LABEL']=='N']\n",
    "# map_districts(gdf_north, 'P2_001N', 'OrRd')"
   ]
  },
  {
   "cell_type": "code",
   "execution_count": 39,
   "metadata": {
    "ExecuteTime": {
     "end_time": "2022-09-22T17:42:17.700375Z",
     "start_time": "2022-09-22T17:42:17.688587Z"
    }
   },
   "outputs": [
    {
     "name": "stdout",
     "output_type": "stream",
     "text": [
      "['NECN' 'SWNI' 'NWNW' 'EPNO' 'NPNS' 'SEUL' 'CNN' 'LLOYD']\n"
     ]
    }
   ],
   "source": [
    "# The data is correctly labeled for neighborhood associations\n",
    "print(gdf['NEIGHBORHOOD_ASSOCIATION'].unique())\n",
    "gdf_NA = gdf.copy()\n",
    "gdf_NA['NA_NUM'] = gdf_NA['NEIGHBORHOOD_ASSOCIATION'].replace(\n",
    "    {'NECN': 1, 'SWNI': 2, 'NWNW': 3, 'EPNO': 4, 'NPNS': 5, 'SEUL': 6,\n",
    "     'CNN': 7, 'LLOYD': 8}).astype('float64')\n",
    "# map_districts(gdf_NA, 'NA_NUM', 'Accent')"
   ]
  },
  {
   "cell_type": "code",
   "execution_count": 50,
   "metadata": {
    "ExecuteTime": {
     "end_time": "2022-09-22T17:49:06.101190Z",
     "start_time": "2022-09-22T17:49:05.524227Z"
    }
   },
   "outputs": [
    {
     "name": "stdout",
     "output_type": "stream",
     "text": [
      "162\n"
     ]
    }
   ],
   "source": [
    "# Option 1 - Trying to keep the neighborhood associations whole, not 100% possible\n",
    "option_1 = gdf[gdf['OPTION_1'].notnull()]\n",
    "print(len(option_1))\n",
    "option_1_map = map_districts(option_1, 'OPTION_1', 'Accent')\n",
    "# option_1_map\n",
    "# m.save('option_1.html')"
   ]
  },
  {
   "cell_type": "code",
   "execution_count": null,
   "metadata": {
    "ExecuteTime": {
     "end_time": "2022-09-22T17:10:54.516171Z",
     "start_time": "2022-09-22T17:10:54.511210Z"
    }
   },
   "outputs": [],
   "source": []
  },
  {
   "cell_type": "code",
   "execution_count": null,
   "metadata": {
    "ExecuteTime": {
     "end_time": "2022-09-22T17:10:55.146444Z",
     "start_time": "2022-09-22T17:10:54.909307Z"
    }
   },
   "outputs": [],
   "source": []
  },
  {
   "cell_type": "code",
   "execution_count": null,
   "metadata": {},
   "outputs": [],
   "source": []
  }
 ],
 "metadata": {
  "kernelspec": {
   "display_name": "Python 3",
   "language": "python",
   "name": "python3"
  },
  "language_info": {
   "codemirror_mode": {
    "name": "ipython",
    "version": 3
   },
   "file_extension": ".py",
   "mimetype": "text/x-python",
   "name": "python",
   "nbconvert_exporter": "python",
   "pygments_lexer": "ipython3",
   "version": "3.8.3"
  },
  "toc": {
   "base_numbering": 1,
   "nav_menu": {},
   "number_sections": true,
   "sideBar": true,
   "skip_h1_title": false,
   "title_cell": "Table of Contents",
   "title_sidebar": "Contents",
   "toc_cell": false,
   "toc_position": {},
   "toc_section_display": true,
   "toc_window_display": false
  }
 },
 "nbformat": 4,
 "nbformat_minor": 4
}
