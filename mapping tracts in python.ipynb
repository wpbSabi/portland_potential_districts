{
 "cells": [
  {
   "cell_type": "code",
   "execution_count": 1,
   "metadata": {
    "ExecuteTime": {
     "end_time": "2022-09-21T21:51:28.255531Z",
     "start_time": "2022-09-21T21:51:23.939984Z"
    }
   },
   "outputs": [],
   "source": [
    "import folium\n",
    "import geopandas as gpd\n",
    "import pandas as pd"
   ]
  },
  {
   "cell_type": "code",
   "execution_count": 37,
   "metadata": {
    "ExecuteTime": {
     "end_time": "2022-09-21T22:33:13.236360Z",
     "start_time": "2022-09-21T22:33:12.985559Z"
    }
   },
   "outputs": [
    {
     "data": {
      "text/html": [
       "<div>\n",
       "<style scoped>\n",
       "    .dataframe tbody tr th:only-of-type {\n",
       "        vertical-align: middle;\n",
       "    }\n",
       "\n",
       "    .dataframe tbody tr th {\n",
       "        vertical-align: top;\n",
       "    }\n",
       "\n",
       "    .dataframe thead th {\n",
       "        text-align: right;\n",
       "    }\n",
       "</style>\n",
       "<table border=\"1\" class=\"dataframe\">\n",
       "  <thead>\n",
       "    <tr style=\"text-align: right;\">\n",
       "      <th></th>\n",
       "      <th>OBJECTID</th>\n",
       "      <th>STATE</th>\n",
       "      <th>COUNTY</th>\n",
       "      <th>TRACT</th>\n",
       "      <th>TRACT_NO</th>\n",
       "      <th>FIPS2020</th>\n",
       "      <th>P2_001N</th>\n",
       "      <th>P2_002N</th>\n",
       "      <th>P2_005N</th>\n",
       "      <th>P2_006N</th>\n",
       "      <th>...</th>\n",
       "      <th>P2_009N</th>\n",
       "      <th>P2_010N</th>\n",
       "      <th>P2_011N</th>\n",
       "      <th>GISACRES</th>\n",
       "      <th>Shape__Are</th>\n",
       "      <th>Shape__Len</th>\n",
       "      <th>geometry</th>\n",
       "      <th>POPULATION</th>\n",
       "      <th>LABEL</th>\n",
       "      <th>LABEL_NOTE</th>\n",
       "    </tr>\n",
       "  </thead>\n",
       "  <tbody>\n",
       "    <tr>\n",
       "      <th>210</th>\n",
       "      <td>211</td>\n",
       "      <td>41</td>\n",
       "      <td>51</td>\n",
       "      <td>2401</td>\n",
       "      <td>24.01</td>\n",
       "      <td>41051002401</td>\n",
       "      <td>2794</td>\n",
       "      <td>173</td>\n",
       "      <td>2096</td>\n",
       "      <td>175</td>\n",
       "      <td>...</td>\n",
       "      <td>4</td>\n",
       "      <td>18</td>\n",
       "      <td>224</td>\n",
       "      <td>208.084401</td>\n",
       "      <td>9.064165e+06</td>\n",
       "      <td>12542.520021</td>\n",
       "      <td>POLYGON ((-122.65860 45.54827, -122.65768 45.5...</td>\n",
       "      <td>2794.0</td>\n",
       "      <td>NE</td>\n",
       "      <td>inner NE</td>\n",
       "    </tr>\n",
       "    <tr>\n",
       "      <th>211</th>\n",
       "      <td>212</td>\n",
       "      <td>41</td>\n",
       "      <td>51</td>\n",
       "      <td>2402</td>\n",
       "      <td>24.02</td>\n",
       "      <td>41051002402</td>\n",
       "      <td>3830</td>\n",
       "      <td>308</td>\n",
       "      <td>2905</td>\n",
       "      <td>180</td>\n",
       "      <td>...</td>\n",
       "      <td>4</td>\n",
       "      <td>17</td>\n",
       "      <td>254</td>\n",
       "      <td>222.753325</td>\n",
       "      <td>9.703143e+06</td>\n",
       "      <td>13945.775924</td>\n",
       "      <td>POLYGON ((-122.65760 45.53435, -122.65760 45.5...</td>\n",
       "      <td>3830.0</td>\n",
       "      <td>NE</td>\n",
       "      <td>inner NE</td>\n",
       "    </tr>\n",
       "  </tbody>\n",
       "</table>\n",
       "<p>2 rows × 22 columns</p>\n",
       "</div>"
      ],
      "text/plain": [
       "     OBJECTID  STATE  COUNTY  TRACT TRACT_NO     FIPS2020  P2_001N  P2_002N  \\\n",
       "210       211     41      51   2401    24.01  41051002401     2794      173   \n",
       "211       212     41      51   2402    24.02  41051002402     3830      308   \n",
       "\n",
       "     P2_005N  P2_006N  ...  P2_009N  P2_010N  P2_011N    GISACRES  \\\n",
       "210     2096      175  ...        4       18      224  208.084401   \n",
       "211     2905      180  ...        4       17      254  222.753325   \n",
       "\n",
       "       Shape__Are    Shape__Len  \\\n",
       "210  9.064165e+06  12542.520021   \n",
       "211  9.703143e+06  13945.775924   \n",
       "\n",
       "                                              geometry  POPULATION LABEL  \\\n",
       "210  POLYGON ((-122.65860 45.54827, -122.65768 45.5...      2794.0    NE   \n",
       "211  POLYGON ((-122.65760 45.53435, -122.65760 45.5...      3830.0    NE   \n",
       "\n",
       "     LABEL_NOTE  \n",
       "210    inner NE  \n",
       "211    inner NE  \n",
       "\n",
       "[2 rows x 22 columns]"
      ]
     },
     "execution_count": 37,
     "metadata": {},
     "output_type": "execute_result"
    }
   ],
   "source": [
    "# Import the shapefile with data\n",
    "gdf = gpd.read_file('data/Census_Tracts_2020_Redistricting_Data.shp')\n",
    "# Import the labels that I gave to the tracts \n",
    "labels = pd.read_csv('data/tract_labels.csv').drop(['TRACT_NO', 'FIPS2020'], axis=1)\n",
    "# Cast types to enable merge\n",
    "gdf['STATE'] = gdf['STATE'].astype('int64')\n",
    "gdf['COUNTY'] = gdf['COUNTY'].astype('int64')\n",
    "gdf['TRACT'] = gdf['TRACT'].astype('int64')\n",
    "# Merge the shapefile with the labels\n",
    "gdf = gdf.merge(labels, on=['STATE', 'COUNTY', 'TRACT'], how='left')\n",
    "gdf = gdf[gdf['LABEL']!='Not Portland']\n",
    "gdf = gdf[gdf['LABEL'].notnull()]\n",
    "gdf[gdf['LABEL'].notnull()].head(2)"
   ]
  },
  {
   "cell_type": "code",
   "execution_count": 20,
   "metadata": {
    "ExecuteTime": {
     "end_time": "2022-09-21T21:58:09.110824Z",
     "start_time": "2022-09-21T21:58:09.104326Z"
    }
   },
   "outputs": [],
   "source": [
    "# Create a map and add choropleth by population for each tract\n",
    "def create_map(gdf):\n",
    "    m = folium.Map(location=[45.5, -122.5], \n",
    "                   zoom_start=10, \n",
    "                   width='100%')\n",
    "    cp = folium.Choropleth(\n",
    "        geo_data=gdf,\n",
    "        name='Mulntomah County Population by Census Tract',\n",
    "        data=gdf,\n",
    "        columns=['TRACT_NO', 'P2_001N'],\n",
    "        key_on=\"feature.properties.TRACT_NO\",\n",
    "        fill_color=\"OrRd\", # yellow green blue : YlGnBu\n",
    "        #bins=[0, 300, 600, 900, 2000, 3000],\n",
    "        label=['P2_001N'],\n",
    "        tooltip=['TRACT_NO', 'P2_001N'],\n",
    "        fill_opacity=0.5,\n",
    "        line_opacity=0.9,\n",
    "        legend_name='Population per Census Tract',\n",
    "    ).add_to(m)\n",
    "\n",
    "    # This adds tooltips:  https://medium.com/analytics-vidhya/interactive-choropleth-map-in-python-using-folium-4e1479d9e568\n",
    "    style_function = lambda x: {'fillColor': '#ffffff', \n",
    "                                'color':'#000000', \n",
    "                                'fillOpacity': 0.1, \n",
    "                                'weight': 0.1}\n",
    "    tooltipadd = folium.features.GeoJson(\n",
    "        gdf,\n",
    "        style_function=style_function, \n",
    "        control=False,\n",
    "        tooltip=folium.features.GeoJsonTooltip(\n",
    "            fields=['TRACT_NO', 'P2_001N'],\n",
    "            aliases=['TRACT_NO', 'P2_001N'],\n",
    "            style=(\"background-color: white; color: #333333; font-family: arial; font-size: 12px; padding: 10px;\") \n",
    "        )\n",
    "    )\n",
    "    m.add_child(tooltipadd)\n",
    "    m.keep_in_front(tooltipadd)\n",
    "    folium.LayerControl().add_to(m)\n",
    "    return m\n"
   ]
  },
  {
   "cell_type": "code",
   "execution_count": 21,
   "metadata": {
    "ExecuteTime": {
     "end_time": "2022-09-21T21:58:09.730880Z",
     "start_time": "2022-09-21T21:58:09.727038Z"
    }
   },
   "outputs": [],
   "source": [
    "# create_map(gdf)"
   ]
  },
  {
   "cell_type": "markdown",
   "metadata": {},
   "source": [
    "Validations that the data is correctly labeled"
   ]
  },
  {
   "cell_type": "code",
   "execution_count": 22,
   "metadata": {
    "ExecuteTime": {
     "end_time": "2022-09-21T21:58:13.174300Z",
     "start_time": "2022-09-21T21:58:13.170693Z"
    }
   },
   "outputs": [],
   "source": [
    "# # Filter what goes into the map \n",
    "# gdf_north = gdf[gdf['LABEL']=='N']\n",
    "# create_map(gdf_north)"
   ]
  },
  {
   "cell_type": "code",
   "execution_count": 58,
   "metadata": {
    "ExecuteTime": {
     "end_time": "2022-09-21T22:48:08.281888Z",
     "start_time": "2022-09-21T22:48:08.279432Z"
    }
   },
   "outputs": [],
   "source": [
    "# # Filter what goes into the map \n",
    "# gdf_ne = gdf[gdf['LABEL']=='NE']\n",
    "# create_map(gdf_ne)"
   ]
  },
  {
   "cell_type": "code",
   "execution_count": 26,
   "metadata": {
    "ExecuteTime": {
     "end_time": "2022-09-21T21:58:26.038634Z",
     "start_time": "2022-09-21T21:58:26.034842Z"
    }
   },
   "outputs": [],
   "source": [
    "# # Filter what goes into the map \n",
    "# gdf_se = gdf[gdf['LABEL']=='SE']\n",
    "# create_map(gdf_se)"
   ]
  },
  {
   "cell_type": "code",
   "execution_count": 27,
   "metadata": {
    "ExecuteTime": {
     "end_time": "2022-09-21T21:58:28.648701Z",
     "start_time": "2022-09-21T21:58:28.646057Z"
    }
   },
   "outputs": [],
   "source": [
    "# # Filter what goes into the map \n",
    "# gdf_nw = gdf[gdf['LABEL']=='NW']\n",
    "# create_map(gdf_nw)"
   ]
  },
  {
   "cell_type": "code",
   "execution_count": 28,
   "metadata": {
    "ExecuteTime": {
     "end_time": "2022-09-21T21:58:30.325493Z",
     "start_time": "2022-09-21T21:58:30.321656Z"
    }
   },
   "outputs": [],
   "source": [
    "# # Filter what goes into the map \n",
    "# gdf_sw = gdf[gdf['LABEL']=='SW']\n",
    "# create_map(gdf_sw)"
   ]
  },
  {
   "cell_type": "code",
   "execution_count": 52,
   "metadata": {
    "ExecuteTime": {
     "end_time": "2022-09-21T22:42:44.249758Z",
     "start_time": "2022-09-21T22:42:44.245534Z"
    }
   },
   "outputs": [],
   "source": [
    "# # Use the Geopandas Choropleth maps as a guide by tract + population\n",
    "\n",
    "# # Population\n",
    "# ax = gdf.plot(figsize=(100, 100), \n",
    "#                  column='P2_001N', #'P2_001N', \n",
    "#                  legend=False,\n",
    "#                  cmap='spring', # https://matplotlib.org/2.0.2/users/colormaps.html\n",
    "#                  edgecolor='black', \n",
    "#                  linewidth=3,)\n",
    "# gdf.apply(lambda x: ax.annotate(text=x['P2_001N'], \n",
    "#                                    xy=x.geometry.centroid.coords[0], \n",
    "#                                    ha='center',\n",
    "#                                    size=11),\n",
    "#              axis=1)\n",
    "# # ax.set_title('Total Coronavirus Deaths as of September 2021\\n', size=25)\n",
    "# ax.set_xticks([])\n",
    "# ax.set_yticks([])"
   ]
  },
  {
   "cell_type": "code",
   "execution_count": 57,
   "metadata": {
    "ExecuteTime": {
     "end_time": "2022-09-21T22:45:44.325609Z",
     "start_time": "2022-09-21T22:45:44.319531Z"
    }
   },
   "outputs": [],
   "source": [
    "# # Use the Geopandas Choropleth maps as a guide by tract + population\n",
    "\n",
    "# # Census Tract\n",
    "# ax = gdf.plot(figsize=(50, 50), \n",
    "#                  column='P2_001N', \n",
    "#                  legend=False,\n",
    "#                  cmap='spring', # https://matplotlib.org/2.0.2/users/colormaps.html\n",
    "#                  edgecolor='black', \n",
    "#                  linewidth=3,)\n",
    "# gdf.apply(lambda x: ax.annotate(text=x['TRACT_NO'], \n",
    "#                                    xy=x.geometry.centroid.coords[0], \n",
    "#                                    ha='center',\n",
    "#                                    size=11),\n",
    "#              axis=1)\n",
    "# # ax.set_title('Total Coronavirus Deaths as of September 2021\\n', size=25)\n",
    "# ax.set_xticks([])\n",
    "# ax.set_yticks([])"
   ]
  },
  {
   "cell_type": "code",
   "execution_count": null,
   "metadata": {},
   "outputs": [],
   "source": []
  },
  {
   "cell_type": "code",
   "execution_count": null,
   "metadata": {},
   "outputs": [],
   "source": []
  }
 ],
 "metadata": {
  "kernelspec": {
   "display_name": "Python 3",
   "language": "python",
   "name": "python3"
  },
  "language_info": {
   "codemirror_mode": {
    "name": "ipython",
    "version": 3
   },
   "file_extension": ".py",
   "mimetype": "text/x-python",
   "name": "python",
   "nbconvert_exporter": "python",
   "pygments_lexer": "ipython3",
   "version": "3.8.3"
  },
  "toc": {
   "base_numbering": 1,
   "nav_menu": {},
   "number_sections": true,
   "sideBar": true,
   "skip_h1_title": false,
   "title_cell": "Table of Contents",
   "title_sidebar": "Contents",
   "toc_cell": false,
   "toc_position": {},
   "toc_section_display": true,
   "toc_window_display": false
  }
 },
 "nbformat": 4,
 "nbformat_minor": 4
}
