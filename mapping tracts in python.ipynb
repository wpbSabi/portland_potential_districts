{
 "cells": [
  {
   "cell_type": "code",
   "execution_count": 1,
   "metadata": {
    "ExecuteTime": {
     "end_time": "2022-09-22T00:24:02.042106Z",
     "start_time": "2022-09-22T00:23:57.752785Z"
    }
   },
   "outputs": [],
   "source": [
    "import folium\n",
    "import geopandas as gpd\n",
    "import pandas as pd"
   ]
  },
  {
   "cell_type": "code",
   "execution_count": 2,
   "metadata": {
    "ExecuteTime": {
     "end_time": "2022-09-22T00:24:02.372043Z",
     "start_time": "2022-09-22T00:24:02.048216Z"
    }
   },
   "outputs": [
    {
     "data": {
      "text/html": [
       "<div>\n",
       "<style scoped>\n",
       "    .dataframe tbody tr th:only-of-type {\n",
       "        vertical-align: middle;\n",
       "    }\n",
       "\n",
       "    .dataframe tbody tr th {\n",
       "        vertical-align: top;\n",
       "    }\n",
       "\n",
       "    .dataframe thead th {\n",
       "        text-align: right;\n",
       "    }\n",
       "</style>\n",
       "<table border=\"1\" class=\"dataframe\">\n",
       "  <thead>\n",
       "    <tr style=\"text-align: right;\">\n",
       "      <th></th>\n",
       "      <th>OBJECTID</th>\n",
       "      <th>STATE</th>\n",
       "      <th>COUNTY</th>\n",
       "      <th>TRACT</th>\n",
       "      <th>TRACT_NO</th>\n",
       "      <th>FIPS2020</th>\n",
       "      <th>P2_001N</th>\n",
       "      <th>P2_002N</th>\n",
       "      <th>P2_005N</th>\n",
       "      <th>P2_006N</th>\n",
       "      <th>...</th>\n",
       "      <th>Shape__Are</th>\n",
       "      <th>Shape__Len</th>\n",
       "      <th>geometry</th>\n",
       "      <th>POPULATION</th>\n",
       "      <th>LABEL</th>\n",
       "      <th>LABEL_NOTE</th>\n",
       "      <th>NEIGHBORHOOD_ASSOCIATION</th>\n",
       "      <th>OPTION_1</th>\n",
       "      <th>OPTION_1_NAME</th>\n",
       "      <th>Unnamed: 11</th>\n",
       "    </tr>\n",
       "  </thead>\n",
       "  <tbody>\n",
       "    <tr>\n",
       "      <th>210</th>\n",
       "      <td>211</td>\n",
       "      <td>41</td>\n",
       "      <td>51</td>\n",
       "      <td>2401</td>\n",
       "      <td>24.01</td>\n",
       "      <td>41051002401</td>\n",
       "      <td>2794</td>\n",
       "      <td>173</td>\n",
       "      <td>2096</td>\n",
       "      <td>175</td>\n",
       "      <td>...</td>\n",
       "      <td>9.064165e+06</td>\n",
       "      <td>12542.520021</td>\n",
       "      <td>POLYGON ((-122.65860 45.54827, -122.65768 45.5...</td>\n",
       "      <td>2794.0</td>\n",
       "      <td>NE</td>\n",
       "      <td>inner NE</td>\n",
       "      <td>NECN</td>\n",
       "      <td>3.0</td>\n",
       "      <td>3-NECN-CNN</td>\n",
       "      <td>3.0</td>\n",
       "    </tr>\n",
       "    <tr>\n",
       "      <th>211</th>\n",
       "      <td>212</td>\n",
       "      <td>41</td>\n",
       "      <td>51</td>\n",
       "      <td>2402</td>\n",
       "      <td>24.02</td>\n",
       "      <td>41051002402</td>\n",
       "      <td>3830</td>\n",
       "      <td>308</td>\n",
       "      <td>2905</td>\n",
       "      <td>180</td>\n",
       "      <td>...</td>\n",
       "      <td>9.703143e+06</td>\n",
       "      <td>13945.775924</td>\n",
       "      <td>POLYGON ((-122.65760 45.53435, -122.65760 45.5...</td>\n",
       "      <td>3830.0</td>\n",
       "      <td>NE</td>\n",
       "      <td>inner NE</td>\n",
       "      <td>NECN</td>\n",
       "      <td>3.0</td>\n",
       "      <td>3-NECN-CNN</td>\n",
       "      <td>3.0</td>\n",
       "    </tr>\n",
       "  </tbody>\n",
       "</table>\n",
       "<p>2 rows × 26 columns</p>\n",
       "</div>"
      ],
      "text/plain": [
       "     OBJECTID  STATE  COUNTY  TRACT TRACT_NO     FIPS2020  P2_001N  P2_002N  \\\n",
       "210       211     41      51   2401    24.01  41051002401     2794      173   \n",
       "211       212     41      51   2402    24.02  41051002402     3830      308   \n",
       "\n",
       "     P2_005N  P2_006N  ...    Shape__Are    Shape__Len  \\\n",
       "210     2096      175  ...  9.064165e+06  12542.520021   \n",
       "211     2905      180  ...  9.703143e+06  13945.775924   \n",
       "\n",
       "                                              geometry  POPULATION  LABEL  \\\n",
       "210  POLYGON ((-122.65860 45.54827, -122.65768 45.5...      2794.0     NE   \n",
       "211  POLYGON ((-122.65760 45.53435, -122.65760 45.5...      3830.0     NE   \n",
       "\n",
       "     LABEL_NOTE  NEIGHBORHOOD_ASSOCIATION  OPTION_1 OPTION_1_NAME  Unnamed: 11  \n",
       "210    inner NE                      NECN       3.0    3-NECN-CNN          3.0  \n",
       "211    inner NE                      NECN       3.0    3-NECN-CNN          3.0  \n",
       "\n",
       "[2 rows x 26 columns]"
      ]
     },
     "execution_count": 2,
     "metadata": {},
     "output_type": "execute_result"
    }
   ],
   "source": [
    "# Import the shapefile with data\n",
    "gdf = gpd.read_file('data/Census_Tracts_2020_Redistricting_Data.shp')\n",
    "# Import the labels that I gave to the tracts \n",
    "labels = pd.read_csv('data/tract_labels.csv').drop(['TRACT_NO', 'FIPS2020'], axis=1)\n",
    "# labels = pd.read_csv('data/tract_labels and validation - details.csv').drop(['TRACT_NO', 'FIPS2020'], axis=1)\n",
    "# Cast types to enable merge\n",
    "gdf['STATE'] = gdf['STATE'].astype('int64')\n",
    "gdf['COUNTY'] = gdf['COUNTY'].astype('int64')\n",
    "gdf['TRACT'] = gdf['TRACT'].astype('int64')\n",
    "# Merge the shapefile with the labels\n",
    "gdf = gdf.merge(labels, on=['STATE', 'COUNTY', 'TRACT'], how='left')\n",
    "gdf = gdf[gdf['LABEL']!='Not Portland']\n",
    "gdf = gdf[gdf['LABEL'].notnull()]\n",
    "gdf[gdf['LABEL'].notnull()].head(2)"
   ]
  },
  {
   "cell_type": "markdown",
   "metadata": {},
   "source": [
    "Geopandas helper maps"
   ]
  },
  {
   "cell_type": "code",
   "execution_count": 3,
   "metadata": {
    "ExecuteTime": {
     "end_time": "2022-09-22T00:24:02.380455Z",
     "start_time": "2022-09-22T00:24:02.376295Z"
    }
   },
   "outputs": [],
   "source": [
    "# # Use the Geopandas Choropleth maps as a guide by tract + population\n",
    "\n",
    "# # Population\n",
    "# ax = gdf.plot(figsize=(100, 100), \n",
    "#                  column='P2_001N', #'P2_001N', \n",
    "#                  legend=False,\n",
    "#                  cmap='spring', # https://matplotlib.org/2.0.2/users/colormaps.html\n",
    "#                  edgecolor='black', \n",
    "#                  linewidth=3,)\n",
    "# gdf.apply(lambda x: ax.annotate(text=x['P2_001N'], \n",
    "#                                    xy=x.geometry.centroid.coords[0], \n",
    "#                                    ha='center',\n",
    "#                                    size=11),\n",
    "#              axis=1)\n",
    "# # ax.set_title('Total Coronavirus Deaths as of September 2021\\n', size=25)\n",
    "# ax.set_xticks([])\n",
    "# ax.set_yticks([])"
   ]
  },
  {
   "cell_type": "code",
   "execution_count": 4,
   "metadata": {
    "ExecuteTime": {
     "end_time": "2022-09-22T00:24:02.391566Z",
     "start_time": "2022-09-22T00:24:02.385321Z"
    }
   },
   "outputs": [],
   "source": [
    "# # Use the Geopandas Choropleth maps as a guide by tract + population\n",
    "\n",
    "# # Census Tract\n",
    "# ax = gdf.plot(figsize=(50, 50), \n",
    "#                  column='P2_001N', \n",
    "#                  legend=False,\n",
    "#                  cmap='spring', # https://matplotlib.org/2.0.2/users/colormaps.html\n",
    "#                  edgecolor='black', \n",
    "#                  linewidth=3,)\n",
    "# gdf.apply(lambda x: ax.annotate(text=x['TRACT_NO'], \n",
    "#                                    xy=x.geometry.centroid.coords[0], \n",
    "#                                    ha='center',\n",
    "#                                    size=11),\n",
    "#              axis=1)\n",
    "# # ax.set_title('Total Coronavirus Deaths as of September 2021\\n', size=25)\n",
    "# ax.set_xticks([])\n",
    "# ax.set_yticks([])"
   ]
  },
  {
   "cell_type": "markdown",
   "metadata": {},
   "source": [
    "Folium maps for some options"
   ]
  },
  {
   "cell_type": "code",
   "execution_count": 5,
   "metadata": {
    "ExecuteTime": {
     "end_time": "2022-09-22T00:24:02.402427Z",
     "start_time": "2022-09-22T00:24:02.395062Z"
    }
   },
   "outputs": [],
   "source": [
    "# Create a map and add choropleth by population for each tract\n",
    "def create_map(gdf):\n",
    "    m = folium.Map(location=[45.5, -122.5], \n",
    "                   zoom_start=10, \n",
    "                   width='100%')\n",
    "    cp = folium.Choropleth(\n",
    "        geo_data=gdf,\n",
    "        name='Mulntomah County Population by Census Tract',\n",
    "        data=gdf,\n",
    "        columns=['TRACT_NO', 'P2_001N'],\n",
    "        key_on=\"feature.properties.TRACT_NO\",\n",
    "        fill_color=\"OrRd\", # yellow green blue : YlGnBu\n",
    "        #bins=[0, 300, 600, 900, 2000, 3000],\n",
    "        label=['P2_001N'],\n",
    "        tooltip=['TRACT_NO', 'P2_001N'],\n",
    "        fill_opacity=0.5,\n",
    "        line_opacity=0.9,\n",
    "        legend_name='Population per Census Tract',\n",
    "    ).add_to(m)\n",
    "\n",
    "    # This adds tooltips:  https://medium.com/analytics-vidhya/interactive-choropleth-map-in-python-using-folium-4e1479d9e568\n",
    "    style_function = lambda x: {'fillColor': '#ffffff', \n",
    "                                'color':'#000000', \n",
    "                                'fillOpacity': 0.1, \n",
    "                                'weight': 0.1}\n",
    "    tooltipadd = folium.features.GeoJson(\n",
    "        gdf,\n",
    "        style_function=style_function, \n",
    "        control=False,\n",
    "        tooltip=folium.features.GeoJsonTooltip(\n",
    "            fields=['TRACT_NO', 'P2_001N'],\n",
    "            aliases=['TRACT_NO', 'P2_001N'],\n",
    "            style=(\"background-color: white; color: #333333; font-family: arial; font-size: 12px; padding: 10px;\") \n",
    "        )\n",
    "    )\n",
    "    m.add_child(tooltipadd)\n",
    "    m.keep_in_front(tooltipadd)\n",
    "    folium.LayerControl().add_to(m)\n",
    "    return m\n"
   ]
  },
  {
   "cell_type": "code",
   "execution_count": 6,
   "metadata": {
    "ExecuteTime": {
     "end_time": "2022-09-22T00:24:02.415175Z",
     "start_time": "2022-09-22T00:24:02.409042Z"
    }
   },
   "outputs": [],
   "source": [
    "# create_map(gdf)"
   ]
  },
  {
   "cell_type": "markdown",
   "metadata": {},
   "source": [
    "Validations that the data is correctly labeled for quadrants"
   ]
  },
  {
   "cell_type": "code",
   "execution_count": 7,
   "metadata": {
    "ExecuteTime": {
     "end_time": "2022-09-22T00:24:02.427238Z",
     "start_time": "2022-09-22T00:24:02.424158Z"
    }
   },
   "outputs": [],
   "source": [
    "# # Filter what goes into the map \n",
    "# gdf_north = gdf[gdf['LABEL']=='N']\n",
    "# create_map(gdf_north)"
   ]
  },
  {
   "cell_type": "code",
   "execution_count": 8,
   "metadata": {
    "ExecuteTime": {
     "end_time": "2022-09-22T00:24:02.436893Z",
     "start_time": "2022-09-22T00:24:02.432603Z"
    }
   },
   "outputs": [],
   "source": [
    "# # Filter what goes into the map \n",
    "# gdf_ne = gdf[gdf['LABEL']=='NE']\n",
    "# create_map(gdf_ne)"
   ]
  },
  {
   "cell_type": "code",
   "execution_count": 9,
   "metadata": {
    "ExecuteTime": {
     "end_time": "2022-09-22T00:24:02.447344Z",
     "start_time": "2022-09-22T00:24:02.443195Z"
    }
   },
   "outputs": [],
   "source": [
    "# # Filter what goes into the map \n",
    "# gdf_se = gdf[gdf['LABEL']=='SE']\n",
    "# create_map(gdf_se)"
   ]
  },
  {
   "cell_type": "code",
   "execution_count": 10,
   "metadata": {
    "ExecuteTime": {
     "end_time": "2022-09-22T00:24:02.460904Z",
     "start_time": "2022-09-22T00:24:02.450969Z"
    }
   },
   "outputs": [],
   "source": [
    "# # Filter what goes into the map \n",
    "# gdf_nw = gdf[gdf['LABEL']=='NW']\n",
    "# create_map(gdf_nw)"
   ]
  },
  {
   "cell_type": "code",
   "execution_count": 11,
   "metadata": {
    "ExecuteTime": {
     "end_time": "2022-09-22T00:24:02.471923Z",
     "start_time": "2022-09-22T00:24:02.465588Z"
    }
   },
   "outputs": [],
   "source": [
    "# # Filter what goes into the map \n",
    "# gdf_sw = gdf[gdf['LABEL']=='SW']\n",
    "# create_map(gdf_sw)"
   ]
  },
  {
   "cell_type": "markdown",
   "metadata": {},
   "source": [
    "Validations that the data is correctly labeled for neighborhood associations"
   ]
  },
  {
   "cell_type": "code",
   "execution_count": 12,
   "metadata": {
    "ExecuteTime": {
     "end_time": "2022-09-22T00:24:02.502866Z",
     "start_time": "2022-09-22T00:24:02.478715Z"
    }
   },
   "outputs": [
    {
     "data": {
      "text/plain": [
       "array(['NECN', 'SWNI', 'NWNW', 'EPNO', 'NPNS', 'SEUL', 'CNN', 'LLOYD'],\n",
       "      dtype=object)"
      ]
     },
     "execution_count": 12,
     "metadata": {},
     "output_type": "execute_result"
    }
   ],
   "source": [
    "gdf['NEIGHBORHOOD_ASSOCIATION'].unique()\n",
    "# # Filter what goes into the map \n",
    "# gdf_NECN = gdf[gdf['NEIGHBORHOOD_ASSOCIATION']=='NECN']\n",
    "# create_map(gdf_NECN)\n",
    "# # Filter what goes into the map \n",
    "# gdf_SWNI = gdf[gdf['NEIGHBORHOOD_ASSOCIATION']=='SWNI']\n",
    "# create_map(gdf_SWNI)\n",
    "# # Filter what goes into the map \n",
    "# gdf_NWNW = gdf[gdf['NEIGHBORHOOD_ASSOCIATION']=='NWNW']\n",
    "# create_map(gdf_NWNW)\n",
    "# # Filter what goes into the map \n",
    "# gdf_EPNO = gdf[gdf['NEIGHBORHOOD_ASSOCIATION']=='EPNO']\n",
    "# create_map(gdf_EPNO)\n",
    "# Filter what goes into the map \n",
    "# gdf_NPNS = gdf[gdf['NEIGHBORHOOD_ASSOCIATION']=='NPNS']\n",
    "# create_map(gdf_NPNS)\n",
    "# # Filter what goes into the map \n",
    "# gdf_SEUL = gdf[gdf['NEIGHBORHOOD_ASSOCIATION']=='SEUL']\n",
    "# create_map(gdf_SEUL)\n",
    "# # Filter what goes into the map \n",
    "# gdf_CNN = gdf[gdf['NEIGHBORHOOD_ASSOCIATION']=='CNN']\n",
    "# create_map(gdf_CNN)"
   ]
  },
  {
   "cell_type": "code",
   "execution_count": 13,
   "metadata": {
    "ExecuteTime": {
     "end_time": "2022-09-22T00:24:02.590311Z",
     "start_time": "2022-09-22T00:24:02.508549Z"
    }
   },
   "outputs": [
    {
     "name": "stdout",
     "output_type": "stream",
     "text": [
      "160\n"
     ]
    },
    {
     "data": {
      "text/html": [
       "<div>\n",
       "<style scoped>\n",
       "    .dataframe tbody tr th:only-of-type {\n",
       "        vertical-align: middle;\n",
       "    }\n",
       "\n",
       "    .dataframe tbody tr th {\n",
       "        vertical-align: top;\n",
       "    }\n",
       "\n",
       "    .dataframe thead th {\n",
       "        text-align: right;\n",
       "    }\n",
       "</style>\n",
       "<table border=\"1\" class=\"dataframe\">\n",
       "  <thead>\n",
       "    <tr style=\"text-align: right;\">\n",
       "      <th></th>\n",
       "      <th>OBJECTID</th>\n",
       "      <th>STATE</th>\n",
       "      <th>COUNTY</th>\n",
       "      <th>TRACT</th>\n",
       "      <th>TRACT_NO</th>\n",
       "      <th>FIPS2020</th>\n",
       "      <th>P2_001N</th>\n",
       "      <th>P2_002N</th>\n",
       "      <th>P2_005N</th>\n",
       "      <th>P2_006N</th>\n",
       "      <th>...</th>\n",
       "      <th>Shape__Are</th>\n",
       "      <th>Shape__Len</th>\n",
       "      <th>geometry</th>\n",
       "      <th>POPULATION</th>\n",
       "      <th>LABEL</th>\n",
       "      <th>LABEL_NOTE</th>\n",
       "      <th>NEIGHBORHOOD_ASSOCIATION</th>\n",
       "      <th>OPTION_1</th>\n",
       "      <th>OPTION_1_NAME</th>\n",
       "      <th>Unnamed: 11</th>\n",
       "    </tr>\n",
       "  </thead>\n",
       "  <tbody>\n",
       "    <tr>\n",
       "      <th>210</th>\n",
       "      <td>211</td>\n",
       "      <td>41</td>\n",
       "      <td>51</td>\n",
       "      <td>2401</td>\n",
       "      <td>24.01</td>\n",
       "      <td>41051002401</td>\n",
       "      <td>2794</td>\n",
       "      <td>173</td>\n",
       "      <td>2096</td>\n",
       "      <td>175</td>\n",
       "      <td>...</td>\n",
       "      <td>9.064165e+06</td>\n",
       "      <td>12542.520021</td>\n",
       "      <td>POLYGON ((-122.65860 45.54827, -122.65768 45.5...</td>\n",
       "      <td>2794.0</td>\n",
       "      <td>NE</td>\n",
       "      <td>inner NE</td>\n",
       "      <td>NECN</td>\n",
       "      <td>3.0</td>\n",
       "      <td>3-NECN-CNN</td>\n",
       "      <td>3.0</td>\n",
       "    </tr>\n",
       "    <tr>\n",
       "      <th>211</th>\n",
       "      <td>212</td>\n",
       "      <td>41</td>\n",
       "      <td>51</td>\n",
       "      <td>2402</td>\n",
       "      <td>24.02</td>\n",
       "      <td>41051002402</td>\n",
       "      <td>3830</td>\n",
       "      <td>308</td>\n",
       "      <td>2905</td>\n",
       "      <td>180</td>\n",
       "      <td>...</td>\n",
       "      <td>9.703143e+06</td>\n",
       "      <td>13945.775924</td>\n",
       "      <td>POLYGON ((-122.65760 45.53435, -122.65760 45.5...</td>\n",
       "      <td>3830.0</td>\n",
       "      <td>NE</td>\n",
       "      <td>inner NE</td>\n",
       "      <td>NECN</td>\n",
       "      <td>3.0</td>\n",
       "      <td>3-NECN-CNN</td>\n",
       "      <td>3.0</td>\n",
       "    </tr>\n",
       "    <tr>\n",
       "      <th>212</th>\n",
       "      <td>213</td>\n",
       "      <td>41</td>\n",
       "      <td>51</td>\n",
       "      <td>2501</td>\n",
       "      <td>25.01</td>\n",
       "      <td>41051002501</td>\n",
       "      <td>4672</td>\n",
       "      <td>233</td>\n",
       "      <td>3906</td>\n",
       "      <td>75</td>\n",
       "      <td>...</td>\n",
       "      <td>1.440436e+07</td>\n",
       "      <td>15280.345406</td>\n",
       "      <td>POLYGON ((-122.64734 45.54051, -122.64733 45.5...</td>\n",
       "      <td>4672.0</td>\n",
       "      <td>NE</td>\n",
       "      <td>near hollywood</td>\n",
       "      <td>NECN</td>\n",
       "      <td>3.0</td>\n",
       "      <td>3-NECN-CNN</td>\n",
       "      <td>3.0</td>\n",
       "    </tr>\n",
       "    <tr>\n",
       "      <th>213</th>\n",
       "      <td>214</td>\n",
       "      <td>41</td>\n",
       "      <td>51</td>\n",
       "      <td>2502</td>\n",
       "      <td>25.02</td>\n",
       "      <td>41051002502</td>\n",
       "      <td>4614</td>\n",
       "      <td>363</td>\n",
       "      <td>3462</td>\n",
       "      <td>163</td>\n",
       "      <td>...</td>\n",
       "      <td>1.197719e+07</td>\n",
       "      <td>14165.618088</td>\n",
       "      <td>POLYGON ((-122.64735 45.53898, -122.64633 45.5...</td>\n",
       "      <td>4614.0</td>\n",
       "      <td>NE</td>\n",
       "      <td>near hollywood</td>\n",
       "      <td>NECN</td>\n",
       "      <td>3.0</td>\n",
       "      <td>3-NECN-CNN</td>\n",
       "      <td>3.0</td>\n",
       "    </tr>\n",
       "    <tr>\n",
       "      <th>214</th>\n",
       "      <td>215</td>\n",
       "      <td>41</td>\n",
       "      <td>51</td>\n",
       "      <td>6502</td>\n",
       "      <td>65.02</td>\n",
       "      <td>41051006502</td>\n",
       "      <td>4419</td>\n",
       "      <td>378</td>\n",
       "      <td>3383</td>\n",
       "      <td>113</td>\n",
       "      <td>...</td>\n",
       "      <td>2.069157e+07</td>\n",
       "      <td>23035.074700</td>\n",
       "      <td>POLYGON ((-122.72498 45.46074, -122.72491 45.4...</td>\n",
       "      <td>4419.0</td>\n",
       "      <td>SW</td>\n",
       "      <td>near hills</td>\n",
       "      <td>SWNI</td>\n",
       "      <td>4.0</td>\n",
       "      <td>4-W-N-L</td>\n",
       "      <td>4.0</td>\n",
       "    </tr>\n",
       "  </tbody>\n",
       "</table>\n",
       "<p>5 rows × 26 columns</p>\n",
       "</div>"
      ],
      "text/plain": [
       "     OBJECTID  STATE  COUNTY  TRACT TRACT_NO     FIPS2020  P2_001N  P2_002N  \\\n",
       "210       211     41      51   2401    24.01  41051002401     2794      173   \n",
       "211       212     41      51   2402    24.02  41051002402     3830      308   \n",
       "212       213     41      51   2501    25.01  41051002501     4672      233   \n",
       "213       214     41      51   2502    25.02  41051002502     4614      363   \n",
       "214       215     41      51   6502    65.02  41051006502     4419      378   \n",
       "\n",
       "     P2_005N  P2_006N  ...    Shape__Are    Shape__Len  \\\n",
       "210     2096      175  ...  9.064165e+06  12542.520021   \n",
       "211     2905      180  ...  9.703143e+06  13945.775924   \n",
       "212     3906       75  ...  1.440436e+07  15280.345406   \n",
       "213     3462      163  ...  1.197719e+07  14165.618088   \n",
       "214     3383      113  ...  2.069157e+07  23035.074700   \n",
       "\n",
       "                                              geometry  POPULATION  LABEL  \\\n",
       "210  POLYGON ((-122.65860 45.54827, -122.65768 45.5...      2794.0     NE   \n",
       "211  POLYGON ((-122.65760 45.53435, -122.65760 45.5...      3830.0     NE   \n",
       "212  POLYGON ((-122.64734 45.54051, -122.64733 45.5...      4672.0     NE   \n",
       "213  POLYGON ((-122.64735 45.53898, -122.64633 45.5...      4614.0     NE   \n",
       "214  POLYGON ((-122.72498 45.46074, -122.72491 45.4...      4419.0     SW   \n",
       "\n",
       "         LABEL_NOTE  NEIGHBORHOOD_ASSOCIATION  OPTION_1 OPTION_1_NAME  \\\n",
       "210        inner NE                      NECN       3.0    3-NECN-CNN   \n",
       "211        inner NE                      NECN       3.0    3-NECN-CNN   \n",
       "212  near hollywood                      NECN       3.0    3-NECN-CNN   \n",
       "213  near hollywood                      NECN       3.0    3-NECN-CNN   \n",
       "214      near hills                      SWNI       4.0       4-W-N-L   \n",
       "\n",
       "     Unnamed: 11  \n",
       "210          3.0  \n",
       "211          3.0  \n",
       "212          3.0  \n",
       "213          3.0  \n",
       "214          4.0  \n",
       "\n",
       "[5 rows x 26 columns]"
      ]
     },
     "execution_count": 13,
     "metadata": {},
     "output_type": "execute_result"
    }
   ],
   "source": [
    "# Option 1 - Trying to keep the neighborhood associations whole, not 100% possible\n",
    "option_1 = gdf[gdf['OPTION_1'].notnull()]\n",
    "print(len(option_1))\n",
    "option_1.head()"
   ]
  },
  {
   "cell_type": "code",
   "execution_count": 17,
   "metadata": {
    "ExecuteTime": {
     "end_time": "2022-09-22T00:27:12.570123Z",
     "start_time": "2022-09-22T00:27:12.318757Z"
    }
   },
   "outputs": [
    {
     "data": {
      "text/plain": [
       "<folium.features.Choropleth at 0x7fdedf78a8e0>"
      ]
     },
     "execution_count": 17,
     "metadata": {},
     "output_type": "execute_result"
    }
   ],
   "source": [
    "# Create a map and add choropleth for Option 1\n",
    "m = folium.Map(location=[45.5, -122.5], \n",
    "               zoom_start=10, \n",
    "               width='100%')\n",
    "folium.Choropleth(\n",
    "    geo_data=option_1,\n",
    "    name='Districts Option 1',\n",
    "    data=option_1,\n",
    "    columns=['TRACT_NO', 'OPTION_1'], \n",
    "    key_on='feature.properties.TRACT_NO',\n",
    "    fill_color= 'Accent', # https://matplotlib.org/2.0.2/users/colormaps.html\n",
    "    fill_opacity=0.5,\n",
    "    line_opacity=0.9,\n",
    "    legend_name='Districts Option 1',\n",
    ").add_to(m)"
   ]
  },
  {
   "cell_type": "code",
   "execution_count": 16,
   "metadata": {
    "ExecuteTime": {
     "end_time": "2022-09-22T00:25:01.449924Z",
     "start_time": "2022-09-22T00:25:01.267636Z"
    }
   },
   "outputs": [],
   "source": [
    "# m.save('option_1.html')"
   ]
  },
  {
   "cell_type": "code",
   "execution_count": null,
   "metadata": {},
   "outputs": [],
   "source": []
  }
 ],
 "metadata": {
  "kernelspec": {
   "display_name": "Python 3",
   "language": "python",
   "name": "python3"
  },
  "language_info": {
   "codemirror_mode": {
    "name": "ipython",
    "version": 3
   },
   "file_extension": ".py",
   "mimetype": "text/x-python",
   "name": "python",
   "nbconvert_exporter": "python",
   "pygments_lexer": "ipython3",
   "version": "3.8.3"
  },
  "toc": {
   "base_numbering": 1,
   "nav_menu": {},
   "number_sections": true,
   "sideBar": true,
   "skip_h1_title": false,
   "title_cell": "Table of Contents",
   "title_sidebar": "Contents",
   "toc_cell": false,
   "toc_position": {},
   "toc_section_display": true,
   "toc_window_display": false
  }
 },
 "nbformat": 4,
 "nbformat_minor": 4
}
