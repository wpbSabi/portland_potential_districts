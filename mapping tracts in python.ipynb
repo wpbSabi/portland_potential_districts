{
 "cells": [
  {
   "cell_type": "code",
   "execution_count": 4,
   "metadata": {
    "ExecuteTime": {
     "end_time": "2022-09-24T23:25:14.555884Z",
     "start_time": "2022-09-24T23:25:14.544563Z"
    }
   },
   "outputs": [],
   "source": [
    "import folium\n",
    "from folium.features import DivIcon\n",
    "import geopandas as gpd\n",
    "import pandas as pd\n",
    "# pd.set_option('display.max_rows', None)\n",
    "# pd.set_option('display.max_columns', None)"
   ]
  },
  {
   "cell_type": "code",
   "execution_count": 17,
   "metadata": {
    "ExecuteTime": {
     "end_time": "2022-09-24T23:28:11.637849Z",
     "start_time": "2022-09-24T23:28:11.403657Z"
    }
   },
   "outputs": [],
   "source": [
    "# Import the shapefile with data\n",
    "gdf = gpd.read_file('data/Census_Tracts_2020_Redistricting_Data.shp')\n",
    "# Import labels given to tracts for district options and analysis\n",
    "labels = pd.read_csv('data/tract_labels.csv').drop(['TRACT_NO', 'FIPS2020'], axis=1)\n",
    "# Cast types to enable merge\n",
    "gdf['STATE'] = gdf['STATE'].astype('int64')\n",
    "gdf['COUNTY'] = gdf['COUNTY'].astype('int64')\n",
    "gdf['TRACT'] = gdf['TRACT'].astype('int64')\n",
    "# Merge the shapefile with the labels\n",
    "gdf = gdf.merge(labels, on=['STATE', 'COUNTY', 'TRACT'], how='left')\n",
    "gdf = gdf[gdf['LABEL']!='Not Portland']\n",
    "gdf = gdf[gdf['LABEL'].notnull()]\n",
    "gdf['DENSITY'] = gdf['POPULATION'] / gdf['GISACRES']"
   ]
  },
  {
   "cell_type": "markdown",
   "metadata": {},
   "source": [
    "Geopandas helper maps"
   ]
  },
  {
   "cell_type": "code",
   "execution_count": 6,
   "metadata": {
    "ExecuteTime": {
     "end_time": "2022-09-24T23:25:16.228426Z",
     "start_time": "2022-09-24T23:25:16.213030Z"
    }
   },
   "outputs": [],
   "source": [
    "# # (For Reference) Use the Geopandas Choropleth maps as a guide by tract + population\n",
    "\n",
    "# # Display census tract map to save\n",
    "# ax = gdf.plot(figsize=(50, 50), \n",
    "#                  column='P2_001N', \n",
    "#                  legend=False,\n",
    "#                  cmap='spring', # https://matplotlib.org/2.0.2/users/colormaps.html\n",
    "#                  edgecolor='black', \n",
    "#                  linewidth=3,)\n",
    "# gdf.apply(lambda x: ax.annotate(text=x['TRACT_NO'], \n",
    "#                                    xy=x.geometry.centroid.coords[0], \n",
    "#                                    ha='center',\n",
    "#                                    size=11),\n",
    "#              axis=1)\n",
    "# ax.set_title('Portland Census Tracts\\n', size=25)\n",
    "# ax.set_xticks([])\n",
    "# ax.set_yticks([])\n",
    "\n",
    "# # Display population by census tract map to save\n",
    "# ax = gdf.plot(figsize=(100, 100), \n",
    "#                  column='P2_001N', #'P2_001N', \n",
    "#                  legend=False,\n",
    "#                  cmap='spring', # https://matplotlib.org/2.0.2/users/colormaps.html\n",
    "#                  edgecolor='black', \n",
    "#                  linewidth=3,)\n",
    "# gdf.apply(lambda x: ax.annotate(text=x['P2_001N'], \n",
    "#                                    xy=x.geometry.centroid.coords[0], \n",
    "#                                    ha='center',\n",
    "#                                    size=11),\n",
    "#              axis=1)\n",
    "# ax.set_title('Portland Population by Census Tract\\n', size=25)\n",
    "# ax.set_xticks([])\n",
    "# ax.set_yticks([])"
   ]
  },
  {
   "cell_type": "markdown",
   "metadata": {},
   "source": [
    "Folium maps for some options"
   ]
  },
  {
   "cell_type": "code",
   "execution_count": 7,
   "metadata": {
    "ExecuteTime": {
     "end_time": "2022-09-24T23:25:18.931479Z",
     "start_time": "2022-09-24T23:25:18.920789Z"
    }
   },
   "outputs": [],
   "source": [
    "# Create a map and add choropleth by population for each tract\n",
    "def map_districts(gdf, column, colors):\n",
    "    \"\"\"\n",
    "    gfd is the geo data frame\n",
    "    column is the name of the column in gdf used for coloring the choropleth map\n",
    "    colors is the matplotlib cmap coloring scheme:\n",
    "         https://matplotlib.org/2.0.2/users/colormaps.html\n",
    "    \"\"\"\n",
    "    m = folium.Map(location=[45.5, -122.5], \n",
    "                   zoom_start=10, \n",
    "                   width='100%',)\n",
    "#                    tiles='Stamen Toner')\n",
    "    cp = folium.Choropleth(\n",
    "        geo_data=gdf,\n",
    "        name='Portland, Oregon',\n",
    "        data=gdf,\n",
    "        columns=['TRACT_NO', column],\n",
    "        key_on='feature.properties.TRACT_NO',\n",
    "        fill_color=colors, \n",
    "        label=['P2_001N'],\n",
    "        tooltip=['TRACT_NO', 'P2_001N'],\n",
    "        fill_opacity=0.5,\n",
    "        line_opacity=0.9,\n",
    "#         legend_name='Portland Potential Districts',\n",
    "    ).add_to(m)\n",
    "\n",
    "    # This adds tooltips:  https://medium.com/analytics-vidhya/interactive-choropleth-map-in-python-using-folium-4e1479d9e568\n",
    "    style_function = lambda x: {'fillColor': '#ffffff', \n",
    "                                'color':'#000000', \n",
    "                                'fillOpacity': 0.1, \n",
    "                                'weight': 0.1}\n",
    "    tooltipadd = folium.features.GeoJson(\n",
    "        gdf,\n",
    "        style_function=style_function, \n",
    "        control=False,\n",
    "        tooltip=folium.features.GeoJsonTooltip(\n",
    "            fields=['TRACT_NO', 'P2_001N'],\n",
    "            aliases=['TRACT_NO', 'P2_001N'],\n",
    "            style=(\"background-color: white; color: #333333; font-family: arial; font-size: 12px; padding: 10px;\") \n",
    "        )\n",
    "    )\n",
    "    m.add_child(tooltipadd)\n",
    "    m.keep_in_front(tooltipadd)\n",
    "    folium.LayerControl().add_to(m)\n",
    "    return m"
   ]
  },
  {
   "cell_type": "markdown",
   "metadata": {},
   "source": [
    "Folium map of Portland \"quadrants\" by population tract\n",
    "* *census tracts do not adhere strictly to the quadrants, therefore this is an estimate*"
   ]
  },
  {
   "cell_type": "code",
   "execution_count": 8,
   "metadata": {
    "ExecuteTime": {
     "end_time": "2022-09-24T23:25:21.321486Z",
     "start_time": "2022-09-24T23:25:20.909629Z"
    }
   },
   "outputs": [
    {
     "data": {
      "text/plain": [
       "<folium.map.Marker at 0x7ff6ac027820>"
      ]
     },
     "execution_count": 8,
     "metadata": {},
     "output_type": "execute_result"
    }
   ],
   "source": [
    "# Create a map and add choropleth for Portland's population by quadrants\n",
    "quadrants = gdf[gdf['LABEL'].notnull()]\n",
    "quadrants['LABEL_NUM'] = quadrants['LABEL'].replace(\n",
    "                          {'NE': 1, 'SW': 2, 'NW': 3, 'SE': 4, 'N': 5}).astype('float64')\n",
    "quadrants_map = map_districts(quadrants, 'LABEL_NUM', 'Accent')\n",
    "\n",
    "folium.map.Marker([45.67, -122.74], icon=DivIcon(icon_size=(250,36), icon_anchor=(0,0),\n",
    "    html='<div style=\"font-size: 20pt; color: #000000\">N (66,738)</div>',))\\\n",
    "    .add_to(quadrants_map)\n",
    "folium.map.Marker([45.6, -122.54], icon=DivIcon(icon_size=(250,36), icon_anchor=(0,0),\n",
    "    html='<div style=\"font-size: 20pt; color: #000000\">NE (200,831)</div>',))\\\n",
    "    .add_to(quadrants_map)\n",
    "folium.map.Marker([45.48, -122.47], icon=DivIcon(icon_size=(250,36), icon_anchor=(0,0),\n",
    "    html='<div style=\"font-size: 20pt; color: #000000\">SE (241,159)</div>',))\\\n",
    "    .add_to(quadrants_map)\n",
    "folium.map.Marker([45.5, -122.9], icon=DivIcon(icon_size=(250,36), icon_anchor=(0,0),\n",
    "    html='<div style=\"font-size: 20pt; color: #000000\">SW</div>',)).add_to(quadrants_map)\n",
    "folium.map.Marker([45.47, -122.9], icon=DivIcon(icon_size=(250,36), icon_anchor=(0,0),\n",
    "    html='<div style=\"font-size: 20pt; color: #000000\">(99,462)</div>',))\\\n",
    "    .add_to(quadrants_map)\n",
    "folium.map.Marker([45.57, -122.9], icon=DivIcon(icon_size=(250,36), icon_anchor=(0,0),\n",
    "    html='<div style=\"font-size: 20pt; color: #000000\">NW</div>',)).add_to(quadrants_map)\n",
    "folium.map.Marker([45.54, -122.9], icon=DivIcon(icon_size=(250,36), icon_anchor=(0,0),\n",
    "    html='<div style=\"font-size: 20pt; color: #000000\">(47,680)</div>',))\\\n",
    "    .add_to(quadrants_map)\n",
    "# quadrants_map.save('quadrants_map.html')"
   ]
  },
  {
   "cell_type": "code",
   "execution_count": 9,
   "metadata": {
    "ExecuteTime": {
     "end_time": "2022-09-24T23:25:32.334270Z",
     "start_time": "2022-09-24T23:25:32.299362Z"
    }
   },
   "outputs": [
    {
     "name": "stdout",
     "output_type": "stream",
     "text": [
      "655870.0\n"
     ]
    },
    {
     "data": {
      "text/html": [
       "<div>\n",
       "<style scoped>\n",
       "    .dataframe tbody tr th:only-of-type {\n",
       "        vertical-align: middle;\n",
       "    }\n",
       "\n",
       "    .dataframe tbody tr th {\n",
       "        vertical-align: top;\n",
       "    }\n",
       "\n",
       "    .dataframe thead th {\n",
       "        text-align: right;\n",
       "    }\n",
       "</style>\n",
       "<table border=\"1\" class=\"dataframe\">\n",
       "  <thead>\n",
       "    <tr style=\"text-align: right;\">\n",
       "      <th></th>\n",
       "      <th>POPULATION</th>\n",
       "    </tr>\n",
       "    <tr>\n",
       "      <th>LABEL</th>\n",
       "      <th></th>\n",
       "    </tr>\n",
       "  </thead>\n",
       "  <tbody>\n",
       "    <tr>\n",
       "      <th>N</th>\n",
       "      <td>66738.0</td>\n",
       "    </tr>\n",
       "    <tr>\n",
       "      <th>NE</th>\n",
       "      <td>200831.0</td>\n",
       "    </tr>\n",
       "    <tr>\n",
       "      <th>NW</th>\n",
       "      <td>47680.0</td>\n",
       "    </tr>\n",
       "    <tr>\n",
       "      <th>SE</th>\n",
       "      <td>241159.0</td>\n",
       "    </tr>\n",
       "    <tr>\n",
       "      <th>SW</th>\n",
       "      <td>99462.0</td>\n",
       "    </tr>\n",
       "  </tbody>\n",
       "</table>\n",
       "</div>"
      ],
      "text/plain": [
       "       POPULATION\n",
       "LABEL            \n",
       "N         66738.0\n",
       "NE       200831.0\n",
       "NW        47680.0\n",
       "SE       241159.0\n",
       "SW        99462.0"
      ]
     },
     "execution_count": 9,
     "metadata": {},
     "output_type": "execute_result"
    }
   ],
   "source": [
    "# Validate population sum from quadrants\n",
    "q_total = quadrants[['LABEL', 'POPULATION']].groupby(['LABEL']).sum(['POPULATION'])\n",
    "print(sum(q_total['POPULATION'])) # 655870 is the expected population for portland\n",
    "# q_total.loc['N'][0]\n",
    "q_total"
   ]
  },
  {
   "cell_type": "markdown",
   "metadata": {},
   "source": [
    "Validations "
   ]
  },
  {
   "cell_type": "code",
   "execution_count": 10,
   "metadata": {
    "ExecuteTime": {
     "end_time": "2022-09-24T23:25:33.796765Z",
     "start_time": "2022-09-24T23:25:33.789268Z"
    }
   },
   "outputs": [],
   "source": [
    "# # The data is correctly labeled for quadrants\n",
    "# print(gdf['LABEL'].unique())\n",
    "# gdf_north = gdf[gdf['LABEL']=='N']\n",
    "# map_districts(gdf_north, 'P2_001N', 'OrRd')"
   ]
  },
  {
   "cell_type": "code",
   "execution_count": 11,
   "metadata": {
    "ExecuteTime": {
     "end_time": "2022-09-24T23:25:34.713989Z",
     "start_time": "2022-09-24T23:25:34.344548Z"
    }
   },
   "outputs": [
    {
     "name": "stdout",
     "output_type": "stream",
     "text": [
      "['NECN' 'SWNI' 'NWNW' 'EPCO' 'NPNS' 'SEUL' 'CNN']\n"
     ]
    }
   ],
   "source": [
    "# The data is correctly labeled for neighborhood associations\n",
    "print(gdf['NEIGHBORHOOD_ASSOCIATION'].unique())\n",
    "gdf_NA = gdf.copy()\n",
    "gdf_NA['NA_NUM'] = gdf_NA['NEIGHBORHOOD_ASSOCIATION'].replace(\n",
    "    {'NECN': 1, 'SWNI': 2, 'NWNW': 3, 'EPCO': 4, 'NPNS': 5, 'SEUL': 6,\n",
    "     'CNN': 7, 'LLOYD': 8}).astype('float64')\n",
    "NA_map = map_districts(gdf_NA, 'NA_NUM', 'Accent')"
   ]
  },
  {
   "cell_type": "code",
   "execution_count": 12,
   "metadata": {
    "ExecuteTime": {
     "end_time": "2022-09-24T23:25:34.982317Z",
     "start_time": "2022-09-24T23:25:34.964523Z"
    }
   },
   "outputs": [
    {
     "name": "stdout",
     "output_type": "stream",
     "text": [
      "655870.0\n"
     ]
    },
    {
     "data": {
      "text/html": [
       "<div>\n",
       "<style scoped>\n",
       "    .dataframe tbody tr th:only-of-type {\n",
       "        vertical-align: middle;\n",
       "    }\n",
       "\n",
       "    .dataframe tbody tr th {\n",
       "        vertical-align: top;\n",
       "    }\n",
       "\n",
       "    .dataframe thead th {\n",
       "        text-align: right;\n",
       "    }\n",
       "</style>\n",
       "<table border=\"1\" class=\"dataframe\">\n",
       "  <thead>\n",
       "    <tr style=\"text-align: right;\">\n",
       "      <th></th>\n",
       "      <th>POPULATION</th>\n",
       "    </tr>\n",
       "    <tr>\n",
       "      <th>NEIGHBORHOOD_ASSOCIATION</th>\n",
       "      <th></th>\n",
       "    </tr>\n",
       "  </thead>\n",
       "  <tbody>\n",
       "    <tr>\n",
       "      <th>CNN</th>\n",
       "      <td>46064.0</td>\n",
       "    </tr>\n",
       "    <tr>\n",
       "      <th>EPCO</th>\n",
       "      <td>150280.0</td>\n",
       "    </tr>\n",
       "    <tr>\n",
       "      <th>NECN</th>\n",
       "      <td>69748.0</td>\n",
       "    </tr>\n",
       "    <tr>\n",
       "      <th>NPNS</th>\n",
       "      <td>71070.0</td>\n",
       "    </tr>\n",
       "    <tr>\n",
       "      <th>NWNW</th>\n",
       "      <td>42018.0</td>\n",
       "    </tr>\n",
       "    <tr>\n",
       "      <th>SEUL</th>\n",
       "      <td>171566.0</td>\n",
       "    </tr>\n",
       "    <tr>\n",
       "      <th>SWNI</th>\n",
       "      <td>105124.0</td>\n",
       "    </tr>\n",
       "  </tbody>\n",
       "</table>\n",
       "</div>"
      ],
      "text/plain": [
       "                          POPULATION\n",
       "NEIGHBORHOOD_ASSOCIATION            \n",
       "CNN                          46064.0\n",
       "EPCO                        150280.0\n",
       "NECN                         69748.0\n",
       "NPNS                         71070.0\n",
       "NWNW                         42018.0\n",
       "SEUL                        171566.0\n",
       "SWNI                        105124.0"
      ]
     },
     "execution_count": 12,
     "metadata": {},
     "output_type": "execute_result"
    }
   ],
   "source": [
    "gdf_NA_pop = gdf_NA[['NEIGHBORHOOD_ASSOCIATION', 'POPULATION']]\\\n",
    "                .groupby('NEIGHBORHOOD_ASSOCIATION').sum()\n",
    "print(sum(gdf_NA_pop['POPULATION']))\n",
    "gdf_NA_pop"
   ]
  },
  {
   "cell_type": "code",
   "execution_count": 13,
   "metadata": {
    "ExecuteTime": {
     "end_time": "2022-09-24T23:25:36.901643Z",
     "start_time": "2022-09-24T23:25:36.896374Z"
    }
   },
   "outputs": [],
   "source": [
    "# # Option 1 - Trying to keep the neighborhood associations whole, not 100% possible\n",
    "# option_1 = gdf[gdf['OPTION_1'].notnull()]\n",
    "# print(len(option_1))\n",
    "# option_1_map = map_districts(option_1, 'OPTION_1', 'Accent')\n",
    "# option_1_map.save('images/option_1.html')"
   ]
  },
  {
   "cell_type": "code",
   "execution_count": 14,
   "metadata": {
    "ExecuteTime": {
     "end_time": "2022-09-24T23:25:37.471199Z",
     "start_time": "2022-09-24T23:25:37.465335Z"
    }
   },
   "outputs": [],
   "source": [
    "# # Option 2 - Keeps similar community districts close, in the author's opinion\n",
    "# option_2 = gdf[gdf['OPTION_2'].notnull()]\n",
    "# option_2_map = map_districts(option_2, 'OPTION_2', 'Accent')\n",
    "# option_2_map.save('images/option_2.html')"
   ]
  },
  {
   "cell_type": "code",
   "execution_count": 15,
   "metadata": {
    "ExecuteTime": {
     "end_time": "2022-09-24T23:25:38.243916Z",
     "start_time": "2022-09-24T23:25:37.919217Z"
    }
   },
   "outputs": [],
   "source": [
    "# Analysis on Population Density\n",
    "density_map = folium.Map(location=[45.5, -122.5], \n",
    "               zoom_start=10, \n",
    "               width='100%',)\n",
    "#                    tiles='Stamen Toner')\n",
    "cp = folium.Choropleth(\n",
    "    geo_data=gdf,\n",
    "    name='Portland, Oregon',\n",
    "    data=gdf,\n",
    "    columns=['TRACT_NO', 'DENSITY'],\n",
    "    key_on='feature.properties.TRACT_NO',\n",
    "    fill_color='Accent', \n",
    "    label=['DENSITY'],\n",
    "    tooltip=['TRACT_NO', 'DENSITY'],\n",
    "    bins=5,#[1,2,3],#['1','10','100'],\n",
    "    fill_opacity=0.5,\n",
    "    line_opacity=0.9,\n",
    "#         legend_name='Portland Potential Districts',\n",
    ").add_to(density_map)\n",
    "density_map.save('images/density.html')\n",
    "# gdf.sort_values('DENSITY', ascending=False)[['TRACT_NO', 'LABEL_NOTE', 'DENSITY']].to_csv('density.csv')"
   ]
  },
  {
   "cell_type": "code",
   "execution_count": 18,
   "metadata": {
    "ExecuteTime": {
     "end_time": "2022-09-24T23:28:16.002834Z",
     "start_time": "2022-09-24T23:28:15.804401Z"
    }
   },
   "outputs": [],
   "source": [
    "# Option 3 - A central district for the densest area\n",
    "option_3 = gdf[gdf['OPTION_3'].notnull()]\n",
    "option_3_map = map_districts(option_3, 'OPTION_3', 'Accent')\n",
    "option_3_map.save('images/option_3.html')"
   ]
  },
  {
   "cell_type": "code",
   "execution_count": null,
   "metadata": {},
   "outputs": [],
   "source": []
  },
  {
   "cell_type": "code",
   "execution_count": null,
   "metadata": {},
   "outputs": [],
   "source": []
  },
  {
   "cell_type": "code",
   "execution_count": null,
   "metadata": {},
   "outputs": [],
   "source": []
  }
 ],
 "metadata": {
  "kernelspec": {
   "display_name": "Python 3",
   "language": "python",
   "name": "python3"
  },
  "language_info": {
   "codemirror_mode": {
    "name": "ipython",
    "version": 3
   },
   "file_extension": ".py",
   "mimetype": "text/x-python",
   "name": "python",
   "nbconvert_exporter": "python",
   "pygments_lexer": "ipython3",
   "version": "3.8.3"
  },
  "toc": {
   "base_numbering": 1,
   "nav_menu": {},
   "number_sections": true,
   "sideBar": true,
   "skip_h1_title": false,
   "title_cell": "Table of Contents",
   "title_sidebar": "Contents",
   "toc_cell": false,
   "toc_position": {},
   "toc_section_display": true,
   "toc_window_display": false
  }
 },
 "nbformat": 4,
 "nbformat_minor": 4
}
